{
  "nbformat": 4,
  "nbformat_minor": 0,
  "metadata": {
    "colab": {
      "provenance": [],
      "authorship_tag": "ABX9TyN15HrmPPj5N9ryEg7MP5GR",
      "include_colab_link": true
    },
    "kernelspec": {
      "name": "python3",
      "display_name": "Python 3"
    },
    "language_info": {
      "name": "python"
    }
  },
  "cells": [
    {
      "cell_type": "markdown",
      "metadata": {
        "id": "view-in-github",
        "colab_type": "text"
      },
      "source": [
        "<a href=\"https://colab.research.google.com/github/gamidirohan/DAA/blob/main/DAA_Lab1.ipynb\" target=\"_parent\"><img src=\"https://colab.research.google.com/assets/colab-badge.svg\" alt=\"Open In Colab\"/></a>"
      ]
    },
    {
      "cell_type": "markdown",
      "source": [
        "Importing Libraries"
      ],
      "metadata": {
        "id": "pWawI-BeKf1C"
      }
    },
    {
      "cell_type": "code",
      "execution_count": null,
      "metadata": {
        "id": "h8f6k48RKeRi"
      },
      "outputs": [],
      "source": [
        "import time\n",
        "import random"
      ]
    },
    {
      "cell_type": "markdown",
      "source": [
        "Initialization"
      ],
      "metadata": {
        "id": "WaEYmbWnKke7"
      }
    },
    {
      "cell_type": "code",
      "source": [
        "arr = random.sample(range(1, 60), 10)"
      ],
      "metadata": {
        "id": "gPRB2NqAKmOT"
      },
      "execution_count": null,
      "outputs": []
    },
    {
      "cell_type": "markdown",
      "source": [
        "Defining Bubble sort"
      ],
      "metadata": {
        "id": "iaF5Yl0IKw7B"
      }
    },
    {
      "cell_type": "code",
      "source": [
        "def swap(arr, i):\n",
        "    temp = arr[i]\n",
        "    arr[i] = arr[i+1]\n",
        "    arr[i+1] = temp\n",
        "    return arr\n",
        "\n",
        "def bubblesort(arr):\n",
        "    flag = 0\n",
        "    for n in range(len(arr)-1, 0, -1):\n",
        "        for i in range(n):\n",
        "            if arr[i] > arr[i+1]:\n",
        "                swap(arr, i)\n",
        "                flag = flag + 1\n",
        "    return arr, flag"
      ],
      "metadata": {
        "id": "P33gpXuxK13G"
      },
      "execution_count": null,
      "outputs": []
    },
    {
      "cell_type": "markdown",
      "source": [
        "Defining Insertion sort"
      ],
      "metadata": {
        "id": "tnJezAHtYOwm"
      }
    },
    {
      "cell_type": "code",
      "source": [
        "def insert(a, arr):\n",
        "    flag = 0\n",
        "    for i in range(len(arr)):\n",
        "        if arr[i] < a:\n",
        "            i = i + 1\n",
        "        else:\n",
        "            arr.append(0)\n",
        "            j = len(arr) - 1\n",
        "            while j > i:\n",
        "                arr[j] = arr[j - 1]\n",
        "                j = j - 1\n",
        "            arr[i] = a\n",
        "            flag = flag + 1\n",
        "            break\n",
        "    else:\n",
        "        arr.append(a)\n",
        "        flag = flag + 1\n",
        "    return arr, flag\n",
        "\n",
        "def insertsort(arr):\n",
        "  new_arr= []\n",
        "  for i in range(len(arr)-1):\n",
        "    new_arr, flag = insert(arr[i], new_arr)\n",
        "    return arr, flag"
      ],
      "metadata": {
        "id": "Jn4ccS4tYQ7W"
      },
      "execution_count": null,
      "outputs": []
    },
    {
      "cell_type": "markdown",
      "source": [
        "Defining Selection Sort"
      ],
      "metadata": {
        "id": "4ZCE9gJtYXko"
      }
    },
    {
      "cell_type": "code",
      "source": [
        "def exchange(arr, min_index, i):\n",
        "    arr[i], arr[min_index] = arr[min_index], arr[i]\n",
        "\n",
        "def selectsort(arr):\n",
        "  flag = 0\n",
        "  for i in range(len(arr)):\n",
        "    min = i\n",
        "    for j in range(i+1, len(arr)):\n",
        "      if arr[min]>arr[j]:\n",
        "        min = j\n",
        "    exchange(arr, min, i)\n",
        "    flag = flag + 1\n",
        "  return arr, flag\n"
      ],
      "metadata": {
        "id": "9cDi7LCFYZER"
      },
      "execution_count": null,
      "outputs": []
    },
    {
      "cell_type": "markdown",
      "source": [
        "Timing inbuilt sort() function"
      ],
      "metadata": {
        "id": "uCWIYmMBKntl"
      }
    },
    {
      "cell_type": "code",
      "source": [
        "start = time.time()\n",
        "arr1 = arr\n",
        "arr1.sort()\n",
        "end = time.time()\n",
        "print(\"Time taken for executing inbuilt sort function: \", end-start)\n",
        "print(\"Sorted array: \", arr1)\n"
      ],
      "metadata": {
        "colab": {
          "base_uri": "https://localhost:8080/"
        },
        "id": "C2TOsp4tKo59",
        "outputId": "7afaf2dd-59f2-4276-bef2-a8f1d264fc83"
      },
      "execution_count": null,
      "outputs": [
        {
          "output_type": "stream",
          "name": "stdout",
          "text": [
            "Time taken for executing inbuilt sort function:  0.00017118453979492188\n",
            "Sorted array:  [2, 8, 26, 33, 35, 43, 44, 49, 55, 59]\n"
          ]
        }
      ]
    },
    {
      "cell_type": "markdown",
      "source": [
        "Timing bubble sort() function"
      ],
      "metadata": {
        "id": "lH1b_JzSKs0i"
      }
    },
    {
      "cell_type": "code",
      "source": [
        "start = time.time()\n",
        "arr2, flag2 = bubblesort(arr)\n",
        "end = time.time()\n",
        "print(\"Time taken for executing Bubble sort function: \", end-start)\n",
        "print(\"Sorted array\", arr2, \"Number of switches: \", flag2)"
      ],
      "metadata": {
        "id": "-qrrxCWLKtHm",
        "colab": {
          "base_uri": "https://localhost:8080/"
        },
        "outputId": "8c8cef7b-a1e0-4da4-a839-7c4fa7d33f41"
      },
      "execution_count": null,
      "outputs": [
        {
          "output_type": "stream",
          "name": "stdout",
          "text": [
            "Time taken for executing Bubble sort function:  0.00014138221740722656\n",
            "Sorted array [2, 8, 26, 33, 35, 43, 44, 49, 55, 59] Number of switches:  0\n"
          ]
        }
      ]
    },
    {
      "cell_type": "markdown",
      "source": [
        "Timing Insertion sort() function"
      ],
      "metadata": {
        "id": "J7z-apf5K6Gt"
      }
    },
    {
      "cell_type": "code",
      "source": [
        "start = time.time()\n",
        "arr3, flag3 = insertsort(arr)\n",
        "end = time.time()\n",
        "print(\"Time taken for executing Insertion sort function: \", end-start)\n",
        "print(\"Sorted array\", arr3, \"Number of switches: \", flag3)"
      ],
      "metadata": {
        "id": "AszO5MdRK97a",
        "colab": {
          "base_uri": "https://localhost:8080/"
        },
        "outputId": "ea09f324-5872-4692-d48d-9bbf77d858e9"
      },
      "execution_count": null,
      "outputs": [
        {
          "output_type": "stream",
          "name": "stdout",
          "text": [
            "Time taken for executing Insertion sort function:  7.486343383789062e-05\n",
            "Sorted array [2, 8, 26, 33, 35, 43, 44, 49, 55, 59] Number of switches:  1\n"
          ]
        }
      ]
    },
    {
      "cell_type": "markdown",
      "source": [
        "Timing Selection sort() function"
      ],
      "metadata": {
        "id": "fJpr3CyRWfwA"
      }
    },
    {
      "cell_type": "code",
      "source": [
        "start = time.time()\n",
        "arr4, flag4 = selectsort(arr)\n",
        "end = time.time()\n",
        "print(\"Time taken for executing Selection sort function: \", end-start)\n",
        "print(\"Sorted array\", arr4, \"Number of switches: \", flag4)"
      ],
      "metadata": {
        "colab": {
          "base_uri": "https://localhost:8080/"
        },
        "id": "SCM0SkPsWkSW",
        "outputId": "66a69cbb-09ee-4b1f-807b-bfab486cdaf0"
      },
      "execution_count": null,
      "outputs": [
        {
          "output_type": "stream",
          "name": "stdout",
          "text": [
            "Time taken for executing Selection sort function:  8.416175842285156e-05\n",
            "Sorted array [2, 8, 26, 33, 35, 43, 44, 49, 55, 59] Number of switches:  10\n"
          ]
        }
      ]
    }
  ]
}