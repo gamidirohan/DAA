{
  "nbformat": 4,
  "nbformat_minor": 0,
  "metadata": {
    "colab": {
      "provenance": [],
      "authorship_tag": "ABX9TyP5ZvLfsvgBeaEcex+3KjU7",
      "include_colab_link": true
    },
    "kernelspec": {
      "name": "python3",
      "display_name": "Python 3"
    },
    "language_info": {
      "name": "python"
    }
  },
  "cells": [
    {
      "cell_type": "markdown",
      "metadata": {
        "id": "view-in-github",
        "colab_type": "text"
      },
      "source": [
        "<a href=\"https://colab.research.google.com/github/gamidirohan/DAA/blob/main/DAA_Lab_4%2C_and_Lab_5.ipynb\" target=\"_parent\"><img src=\"https://colab.research.google.com/assets/colab-badge.svg\" alt=\"Open In Colab\"/></a>"
      ]
    },
    {
      "cell_type": "markdown",
      "source": [
        "Q1. Solve the fractional knapsack problem for the given set of N items with benefit-weight pairs and sack capacity of W. Print the optimal solution. Use the examples discussed in the\n",
        "class."
      ],
      "metadata": {
        "id": "vBe7jJKv-XLV"
      }
    },
    {
      "cell_type": "code",
      "source": [
        "def fractional_knapsack(value_weight_pairs, W):\n",
        "    # Sort the items based on benefit-to-weight ratio in descending order\n",
        "    value_weight_pairs.sort(key=lambda x: x[0]/x[1], reverse=True)\n",
        "\n",
        "    total_value = 0  # Total benefit\n",
        "    for value, weight in value_weight_pairs:\n",
        "        if W >= weight:\n",
        "            # If the knapsack can carry the full weight of the current item\n",
        "            W -= weight\n",
        "            total_value += value\n",
        "        else:\n",
        "            # If the knapsack can only carry a fraction of the weight of the current item\n",
        "            fraction = W / weight\n",
        "            total_value += value * fraction\n",
        "            W = 0\n",
        "            break  # The knapsack is full\n",
        "\n",
        "    return total_value\n",
        "\n",
        "# Benefit-weight pairs (value, weight)\n",
        "items = [(10, 2), (15, 5), (20, 4)]\n",
        "\n",
        "# Capacity of the knapsack\n",
        "W = 8  # Example capacity\n",
        "\n",
        "# Calculate the maximum benefit\n",
        "max_value = fractional_knapsack(items, W)\n",
        "print(f\"The maximum benefit is: {max_value}\")"
      ],
      "metadata": {
        "colab": {
          "base_uri": "https://localhost:8080/"
        },
        "id": "o1Uxbbps-bly",
        "outputId": "c149604a-8c67-44d0-fab2-2c696c52a918"
      },
      "execution_count": 4,
      "outputs": [
        {
          "output_type": "stream",
          "name": "stdout",
          "text": [
            "The maximum benefit is: 36.0\n"
          ]
        }
      ]
    },
    {
      "cell_type": "markdown",
      "source": [
        "2. Given an array of N integer, we have to maximize the sum of arr[i] * i, where i is the index of the element (i = 0, 1, 2, ..., N). We can rearrange the position of the integer in the array to maximize the sum. • Time complexity of Brute Force Approach: O(N x N!)\n",
        "• Time complexity of Greedy Algorithm: O(N logN)"
      ],
      "metadata": {
        "id": "D3EJCJRH-eZ-"
      }
    },
    {
      "cell_type": "code",
      "source": [
        "def maximize_sum(arr):\n",
        "  # Sort the array in non-decreasing order\n",
        "  arr.sort()\n",
        "  # Calculate the sum of products\n",
        "  total_sum = sum(i * val for i, val in enumerate(arr))\n",
        "  return total_sum\n",
        "\n",
        "arr = [2, 5, 3, 4, 0]\n",
        "max_sum = maximize_sum(arr)\n",
        "print(\"The maximum sum is:\", max_sum)"
      ],
      "metadata": {
        "colab": {
          "base_uri": "https://localhost:8080/"
        },
        "id": "UEVFo24c_XN5",
        "outputId": "7d895615-fe19-4bf0-ce2d-e9465854e8c6"
      },
      "execution_count": 3,
      "outputs": [
        {
          "output_type": "stream",
          "name": "stdout",
          "text": [
            "The maximum sum is: 40\n"
          ]
        }
      ]
    },
    {
      "cell_type": "markdown",
      "source": [
        "3. Given two arrays array_One[] and array_Two[] of same size N. We need to first rearrange the arrays such that the sum of the product of pairs (1 element from each) is minimum. That is SUM (A[i] * B[i]) for all i is minimum. • Time complexity of Brute Force Approach: O((N!)^2)\n",
        "• Time complexity of Greedy Algorithm: O(N logN)\n",
        "\n",
        "For example, consider the following two arrays: array_one[] = {7, 5, 1, 4}; array_two[] = {6, 17, 9, 3}; If we arrange the array_one like {1, 4, 5, 7} and array_two like {17, 9, 6, 3} Then the sum of products is: (17 * 1) + (9 * 4) + (6 * 5) + (7 * 3) = 17 + 36 + 30 + 21 = 104 which is the minimum sum of products.\n",
        "The minimum sum of product is 104."
      ],
      "metadata": {
        "id": "LiiwJ04UCgxB"
      }
    },
    {
      "cell_type": "code",
      "source": [
        "def min_sum_of_products(array_one, array_two):\n",
        "    # Sort the first array in ascending order\n",
        "    array_one.sort()\n",
        "\n",
        "    # Sort the second array in descending order\n",
        "    array_two.sort(reverse=True)\n",
        "\n",
        "    # Calculate the sum of products\n",
        "    min_sum = sum(a * b for a, b in zip(array_one, array_two))\n",
        "\n",
        "    return min_sum\n",
        "\n",
        "# Example arrays:\n",
        "array_one = [7, 5, 1, 4]\n",
        "array_two = [6, 17, 9, 3]\n",
        "\n",
        "# Calculate the minimum sum of products\n",
        "min_sum = min_sum_of_products(array_one, array_two)\n",
        "print(f\"The minimum sum of products is: {min_sum}\")"
      ],
      "metadata": {
        "colab": {
          "base_uri": "https://localhost:8080/"
        },
        "id": "juLYQqjiChCL",
        "outputId": "d59f7016-e2d2-43ab-cc31-dd3035ceff18"
      },
      "execution_count": 5,
      "outputs": [
        {
          "output_type": "stream",
          "name": "stdout",
          "text": [
            "The minimum sum of products is: 104\n"
          ]
        }
      ]
    },
    {
      "cell_type": "markdown",
      "source": [
        "## Lab 5"
      ],
      "metadata": {
        "id": "yTfOEfS0FVym"
      }
    },
    {
      "cell_type": "markdown",
      "source": [
        "Q1. Candies"
      ],
      "metadata": {
        "id": "4Q2rDU_HGl__"
      }
    },
    {
      "cell_type": "code",
      "source": [
        "def distributeCandies(ratings):\n",
        "    n = len(ratings)\n",
        "    candies = [1] * n  # Initialize candies array with 1 candy for each child\n",
        "\n",
        "    # Forward pass to ensure right higher rated child gets more candies than left child\n",
        "    for i in range(1, n):\n",
        "        if ratings[i] > ratings[i - 1]:\n",
        "            candies[i] = candies[i - 1] + 1\n",
        "\n",
        "    # Backward pass to ensure left higher rated child gets more candies than right child\n",
        "    for i in range(n - 2, -1, -1):\n",
        "        if ratings[i] > ratings[i + 1]:\n",
        "            candies[i] = max(candies[i], candies[i + 1] + 1)\n",
        "\n",
        "    # Sum up the candies to get the minimum number of candies Alice must buy\n",
        "    return sum(candies)\n",
        "\n",
        "# Sample Input 0\n",
        "ratings0 = [1, 2, 2]\n",
        "print(distributeCandies(ratings0))  # Expected Output: 4\n",
        "\n",
        "# Sample Input 1\n",
        "ratings1 = [2, 4, 2, 6, 1, 7, 8, 9, 2, 1]\n",
        "print(distributeCandies(ratings1))  # Expected Output: 19\n",
        "\n",
        "# Sample Input 2\n",
        "ratings2 = [2, 4, 3, 5, 2, 6, 4, 5]\n",
        "print(distributeCandies(ratings2))  # Expected Output: 12\n"
      ],
      "metadata": {
        "colab": {
          "base_uri": "https://localhost:8080/"
        },
        "id": "9tgPe-hYFXlP",
        "outputId": "10810968-97e7-46d8-f37a-472d317c9e51"
      },
      "execution_count": 11,
      "outputs": [
        {
          "output_type": "stream",
          "name": "stdout",
          "text": [
            "4\n",
            "19\n",
            "12\n"
          ]
        }
      ]
    },
    {
      "cell_type": "markdown",
      "source": [
        "Q2. Cloudy Day"
      ],
      "metadata": {
        "id": "EPuRnxubGnoo"
      }
    },
    {
      "cell_type": "code",
      "source": [
        "import sys\n",
        "from collections import defaultdict\n",
        "\n",
        "def maximumPeople(populations, town_positions, cloud_positions, cloud_ranges):\n",
        "    # Prepare data: combine towns and clouds with their properties\n",
        "    towns = sorted((pos, pop) for pos, pop in zip(town_positions, populations))\n",
        "    clouds = sorted((pos - range_, pos + range_, idx) for idx, (pos, range_) in enumerate(zip(cloud_positions, cloud_ranges)))\n",
        "\n",
        "    # Initialize variables to track cloud coverage and populations\n",
        "    active_clouds = set()\n",
        "    cloud_coverage = defaultdict(int)\n",
        "    population_sunny = 0\n",
        "\n",
        "    # Events sorted by position: each event is either a cloud starting, ending, or a town\n",
        "    events = []\n",
        "    for start, end, idx in clouds:\n",
        "        events.append((start, 'start', idx))\n",
        "        events.append((end, 'end', idx))\n",
        "    for position, population in towns:\n",
        "        events.append((position, 'town', population))\n",
        "\n",
        "    events.sort()\n",
        "\n",
        "    # Process events in order\n",
        "    for position, event_type, value in events:\n",
        "        if event_type == 'start':\n",
        "            active_clouds.add(value)\n",
        "        elif event_type == 'end':\n",
        "            active_clouds.remove(value)\n",
        "        elif event_type == 'town':\n",
        "            if len(active_clouds) == 1:\n",
        "                # Town is covered by exactly one cloud\n",
        "                cloud_id = next(iter(active_clouds))\n",
        "                cloud_coverage[cloud_id] += value\n",
        "            elif not active_clouds:\n",
        "                # Town is sunny\n",
        "                population_sunny += value\n",
        "\n",
        "    # Calculate the maximum population that can be sunny by removing one cloud\n",
        "    max_population_sunny = population_sunny + max(cloud_coverage.values(), default=0)\n",
        "\n",
        "    return max_population_sunny\n",
        "\n",
        "def main():\n",
        "    # Example input data for demonstration purposes\n",
        "    example_input = \"3 10 20 30 1 2 3 1 2 3 1 2 3\"\n",
        "    data = example_input.split()\n",
        "\n",
        "    n = int(data[0])\n",
        "    populations = list(map(int, data[1:n+1]))\n",
        "    town_positions = list(map(int, data[n+1:2*n+1]))\n",
        "\n",
        "    m = int(data[2*n+1])\n",
        "    cloud_positions = list(map(int, data[2*n+2:2*n+2+m]))\n",
        "    cloud_ranges = list(map(int, data[2*n+2+m:2*n+2+2*m]))\n",
        "\n",
        "    result = maximumPeople(populations, town_positions, cloud_positions, cloud_ranges)\n",
        "    print(result)\n",
        "\n",
        "if __name__ == \"__main__\":\n",
        "    main()"
      ],
      "metadata": {
        "colab": {
          "base_uri": "https://localhost:8080/"
        },
        "id": "8qssEqAdGrR1",
        "outputId": "c697e30f-5c41-4da8-c34e-83bc77199d54"
      },
      "execution_count": 14,
      "outputs": [
        {
          "output_type": "stream",
          "name": "stdout",
          "text": [
            "60\n"
          ]
        }
      ]
    },
    {
      "cell_type": "markdown",
      "source": [],
      "metadata": {
        "id": "1ylEvGqsIKFG"
      }
    },
    {
      "cell_type": "code",
      "source": [
        "def pylons(k, arr):\n",
        "    n = len(arr)\n",
        "    plants = 0\n",
        "    i = 0\n",
        "\n",
        "    while i < n:\n",
        "        found_plant = False\n",
        "        for j in range(i + k - 1, i - k, -1):\n",
        "            if j >= 0 and j < n and arr[j] == 1:\n",
        "                plants += 1\n",
        "                i = j + k\n",
        "                found_plant = True\n",
        "                break\n",
        "        if not found_plant:\n",
        "            return -1\n",
        "    return plants\n",
        "\n",
        "def main():\n",
        "    # Reading input from the user\n",
        "    n, k = map(int, input(\"Enter the number of cities and the distribution range (separated by space): \").split())\n",
        "    arr = list(map(int, input(\"Enter the suitability of each city (0 or 1, separated by space): \").strip().split()))\n",
        "\n",
        "    # Calling the function and printing the result\n",
        "    result = pylons(k, arr)\n",
        "    print(\"Minimum number of plants required:\", result if result != -1 else \"Not possible\")\n",
        "\n",
        "if __name__ == \"__main__\":\n",
        "    main()"
      ],
      "metadata": {
        "colab": {
          "base_uri": "https://localhost:8080/"
        },
        "id": "iNET9k0aIKah",
        "outputId": "723653f8-e703-4228-e3d1-3639104e60c3"
      },
      "execution_count": 17,
      "outputs": [
        {
          "output_type": "stream",
          "name": "stdout",
          "text": [
            "Enter the number of cities and the distribution range (separated by space): 4 2\n",
            "Enter the suitability of each city (0 or 1, separated by space): 1 0 0 1\n",
            "Minimum number of plants required: 2\n"
          ]
        }
      ]
    }
  ]
}